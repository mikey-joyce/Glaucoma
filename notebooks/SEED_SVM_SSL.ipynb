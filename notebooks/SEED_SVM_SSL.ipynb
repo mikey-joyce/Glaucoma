{
 "cells": [
  {
   "cell_type": "code",
   "execution_count": 9,
   "metadata": {},
   "outputs": [],
   "source": [
    "import numpy as np\n",
    "import pandas as pd\n",
    "import matplotlib.pyplot as plt\n",
    "from tqdm import tqdm\n",
    "from sklearn.svm import SVC\n",
    "from xgboost import XGBClassifier\n",
    "from sklearn.model_selection import GridSearchCV, cross_val_score\n",
    "from sklearn.metrics import accuracy_score, precision_score, recall_score, f1_score\n",
    "\n",
    "import warnings\n",
    "warnings.filterwarnings(\"ignore\", category=UserWarning)\n",
    "\n",
    "def svm_evaluation(model, X, y):\n",
    "    preds = model.predict(X)\n",
    "\n",
    "    acc = accuracy_score(y, preds)\n",
    "    prec = precision_score(y, preds)\n",
    "    rec = recall_score(y, preds)\n",
    "    f1 = f1_score(y, preds)\n",
    "\n",
    "    return acc, prec, rec, f1"
   ]
  },
  {
   "cell_type": "code",
   "execution_count": 10,
   "metadata": {},
   "outputs": [
    {
     "name": "stderr",
     "output_type": "stream",
     "text": [
      "/tmp/ipykernel_71609/3209328377.py:8: DtypeWarning: Columns (97,99,153,155,181,183,209,211,306,307,308,362,363,364,391,392,393,420,421,422) have mixed types. Specify dtype option on import or set low_memory=False.\n",
      "  data = pd.read_csv(data_dir + 'SEED_progression_enhanced.csv')\n"
     ]
    },
    {
     "data": {
      "text/html": [
       "<div>\n",
       "<style scoped>\n",
       "    .dataframe tbody tr th:only-of-type {\n",
       "        vertical-align: middle;\n",
       "    }\n",
       "\n",
       "    .dataframe tbody tr th {\n",
       "        vertical-align: top;\n",
       "    }\n",
       "\n",
       "    .dataframe thead th {\n",
       "        text-align: right;\n",
       "    }\n",
       "</style>\n",
       "<table border=\"1\" class=\"dataframe\">\n",
       "  <thead>\n",
       "    <tr style=\"text-align: right;\">\n",
       "      <th></th>\n",
       "      <th>IOP</th>\n",
       "      <th>SBP</th>\n",
       "      <th>DBP</th>\n",
       "      <th>HR</th>\n",
       "      <th>P1</th>\n",
       "      <th>P4</th>\n",
       "      <th>P5</th>\n",
       "      <th>R4</th>\n",
       "      <th>R5</th>\n",
       "      <th>hypertension</th>\n",
       "      <th>hyperlipidaemia1</th>\n",
       "      <th>age</th>\n",
       "      <th>bmi</th>\n",
       "      <th>chol</th>\n",
       "      <th>bldglu</th>\n",
       "    </tr>\n",
       "  </thead>\n",
       "  <tbody>\n",
       "    <tr>\n",
       "      <th>0</th>\n",
       "      <td>14.0</td>\n",
       "      <td>160.5</td>\n",
       "      <td>89.000000</td>\n",
       "      <td>82.000000</td>\n",
       "      <td>54.353404</td>\n",
       "      <td>24.467735</td>\n",
       "      <td>20.920736</td>\n",
       "      <td>3958.933240</td>\n",
       "      <td>2230.158494</td>\n",
       "      <td>1.0</td>\n",
       "      <td>1.0</td>\n",
       "      <td>52.859685</td>\n",
       "      <td>29.714286</td>\n",
       "      <td>7.48</td>\n",
       "      <td>5.9</td>\n",
       "    </tr>\n",
       "    <tr>\n",
       "      <th>1</th>\n",
       "      <td>17.0</td>\n",
       "      <td>150.5</td>\n",
       "      <td>71.666667</td>\n",
       "      <td>82.666667</td>\n",
       "      <td>50.612120</td>\n",
       "      <td>23.680001</td>\n",
       "      <td>20.146534</td>\n",
       "      <td>4867.423344</td>\n",
       "      <td>2236.001740</td>\n",
       "      <td>1.0</td>\n",
       "      <td>0.0</td>\n",
       "      <td>75.353867</td>\n",
       "      <td>28.461798</td>\n",
       "      <td>5.10</td>\n",
       "      <td>18.1</td>\n",
       "    </tr>\n",
       "    <tr>\n",
       "      <th>2</th>\n",
       "      <td>17.0</td>\n",
       "      <td>132.5</td>\n",
       "      <td>78.500000</td>\n",
       "      <td>65.000000</td>\n",
       "      <td>46.617885</td>\n",
       "      <td>22.671671</td>\n",
       "      <td>19.437524</td>\n",
       "      <td>5146.392218</td>\n",
       "      <td>2237.120771</td>\n",
       "      <td>1.0</td>\n",
       "      <td>1.0</td>\n",
       "      <td>63.928816</td>\n",
       "      <td>29.696945</td>\n",
       "      <td>6.40</td>\n",
       "      <td>22.6</td>\n",
       "    </tr>\n",
       "    <tr>\n",
       "      <th>3</th>\n",
       "      <td>21.0</td>\n",
       "      <td>138.0</td>\n",
       "      <td>71.000000</td>\n",
       "      <td>95.500000</td>\n",
       "      <td>48.432416</td>\n",
       "      <td>24.941110</td>\n",
       "      <td>19.296306</td>\n",
       "      <td>5678.779132</td>\n",
       "      <td>4768.998472</td>\n",
       "      <td>0.0</td>\n",
       "      <td>1.0</td>\n",
       "      <td>61.245722</td>\n",
       "      <td>22.735275</td>\n",
       "      <td>6.54</td>\n",
       "      <td>15.5</td>\n",
       "    </tr>\n",
       "    <tr>\n",
       "      <th>4</th>\n",
       "      <td>13.0</td>\n",
       "      <td>143.0</td>\n",
       "      <td>67.500000</td>\n",
       "      <td>73.333333</td>\n",
       "      <td>48.062857</td>\n",
       "      <td>22.853702</td>\n",
       "      <td>19.825284</td>\n",
       "      <td>4093.769151</td>\n",
       "      <td>2230.304842</td>\n",
       "      <td>1.0</td>\n",
       "      <td>0.0</td>\n",
       "      <td>64.459959</td>\n",
       "      <td>30.953251</td>\n",
       "      <td>5.46</td>\n",
       "      <td>4.6</td>\n",
       "    </tr>\n",
       "    <tr>\n",
       "      <th>...</th>\n",
       "      <td>...</td>\n",
       "      <td>...</td>\n",
       "      <td>...</td>\n",
       "      <td>...</td>\n",
       "      <td>...</td>\n",
       "      <td>...</td>\n",
       "      <td>...</td>\n",
       "      <td>...</td>\n",
       "      <td>...</td>\n",
       "      <td>...</td>\n",
       "      <td>...</td>\n",
       "      <td>...</td>\n",
       "      <td>...</td>\n",
       "      <td>...</td>\n",
       "      <td>...</td>\n",
       "    </tr>\n",
       "    <tr>\n",
       "      <th>2411</th>\n",
       "      <td>15.0</td>\n",
       "      <td>137.5</td>\n",
       "      <td>85.000000</td>\n",
       "      <td>75.666667</td>\n",
       "      <td>48.285942</td>\n",
       "      <td>23.001186</td>\n",
       "      <td>19.797961</td>\n",
       "      <td>4514.028046</td>\n",
       "      <td>2233.415861</td>\n",
       "      <td>0.0</td>\n",
       "      <td>0.0</td>\n",
       "      <td>58.527036</td>\n",
       "      <td>25.370370</td>\n",
       "      <td>5.74</td>\n",
       "      <td>6.2</td>\n",
       "    </tr>\n",
       "    <tr>\n",
       "      <th>2412</th>\n",
       "      <td>19.0</td>\n",
       "      <td>140.0</td>\n",
       "      <td>85.500000</td>\n",
       "      <td>77.000000</td>\n",
       "      <td>49.365648</td>\n",
       "      <td>23.652686</td>\n",
       "      <td>19.811060</td>\n",
       "      <td>5446.970413</td>\n",
       "      <td>2509.629808</td>\n",
       "      <td>1.0</td>\n",
       "      <td>0.0</td>\n",
       "      <td>50.819986</td>\n",
       "      <td>25.899774</td>\n",
       "      <td>4.90</td>\n",
       "      <td>7.3</td>\n",
       "    </tr>\n",
       "    <tr>\n",
       "      <th>2413</th>\n",
       "      <td>16.0</td>\n",
       "      <td>139.0</td>\n",
       "      <td>87.500000</td>\n",
       "      <td>81.000000</td>\n",
       "      <td>48.953945</td>\n",
       "      <td>23.217511</td>\n",
       "      <td>19.882111</td>\n",
       "      <td>4710.895898</td>\n",
       "      <td>2234.841903</td>\n",
       "      <td>0.0</td>\n",
       "      <td>0.0</td>\n",
       "      <td>57.765914</td>\n",
       "      <td>23.595456</td>\n",
       "      <td>5.93</td>\n",
       "      <td>6.6</td>\n",
       "    </tr>\n",
       "    <tr>\n",
       "      <th>2414</th>\n",
       "      <td>18.0</td>\n",
       "      <td>135.0</td>\n",
       "      <td>71.500000</td>\n",
       "      <td>58.500000</td>\n",
       "      <td>46.772244</td>\n",
       "      <td>22.839647</td>\n",
       "      <td>19.417482</td>\n",
       "      <td>5408.158493</td>\n",
       "      <td>2399.626874</td>\n",
       "      <td>1.0</td>\n",
       "      <td>1.0</td>\n",
       "      <td>53.642710</td>\n",
       "      <td>22.582709</td>\n",
       "      <td>4.85</td>\n",
       "      <td>6.4</td>\n",
       "    </tr>\n",
       "    <tr>\n",
       "      <th>2415</th>\n",
       "      <td>15.0</td>\n",
       "      <td>146.5</td>\n",
       "      <td>66.500000</td>\n",
       "      <td>86.000000</td>\n",
       "      <td>49.008695</td>\n",
       "      <td>23.180045</td>\n",
       "      <td>19.930607</td>\n",
       "      <td>4477.297529</td>\n",
       "      <td>2233.212943</td>\n",
       "      <td>1.0</td>\n",
       "      <td>0.0</td>\n",
       "      <td>69.776865</td>\n",
       "      <td>19.902676</td>\n",
       "      <td>5.68</td>\n",
       "      <td>7.8</td>\n",
       "    </tr>\n",
       "  </tbody>\n",
       "</table>\n",
       "<p>2416 rows × 15 columns</p>\n",
       "</div>"
      ],
      "text/plain": [
       "       IOP    SBP        DBP         HR         P1         P4         P5  \\\n",
       "0     14.0  160.5  89.000000  82.000000  54.353404  24.467735  20.920736   \n",
       "1     17.0  150.5  71.666667  82.666667  50.612120  23.680001  20.146534   \n",
       "2     17.0  132.5  78.500000  65.000000  46.617885  22.671671  19.437524   \n",
       "3     21.0  138.0  71.000000  95.500000  48.432416  24.941110  19.296306   \n",
       "4     13.0  143.0  67.500000  73.333333  48.062857  22.853702  19.825284   \n",
       "...    ...    ...        ...        ...        ...        ...        ...   \n",
       "2411  15.0  137.5  85.000000  75.666667  48.285942  23.001186  19.797961   \n",
       "2412  19.0  140.0  85.500000  77.000000  49.365648  23.652686  19.811060   \n",
       "2413  16.0  139.0  87.500000  81.000000  48.953945  23.217511  19.882111   \n",
       "2414  18.0  135.0  71.500000  58.500000  46.772244  22.839647  19.417482   \n",
       "2415  15.0  146.5  66.500000  86.000000  49.008695  23.180045  19.930607   \n",
       "\n",
       "               R4           R5  hypertension  hyperlipidaemia1        age  \\\n",
       "0     3958.933240  2230.158494           1.0               1.0  52.859685   \n",
       "1     4867.423344  2236.001740           1.0               0.0  75.353867   \n",
       "2     5146.392218  2237.120771           1.0               1.0  63.928816   \n",
       "3     5678.779132  4768.998472           0.0               1.0  61.245722   \n",
       "4     4093.769151  2230.304842           1.0               0.0  64.459959   \n",
       "...           ...          ...           ...               ...        ...   \n",
       "2411  4514.028046  2233.415861           0.0               0.0  58.527036   \n",
       "2412  5446.970413  2509.629808           1.0               0.0  50.819986   \n",
       "2413  4710.895898  2234.841903           0.0               0.0  57.765914   \n",
       "2414  5408.158493  2399.626874           1.0               1.0  53.642710   \n",
       "2415  4477.297529  2233.212943           1.0               0.0  69.776865   \n",
       "\n",
       "            bmi  chol  bldglu  \n",
       "0     29.714286  7.48     5.9  \n",
       "1     28.461798  5.10    18.1  \n",
       "2     29.696945  6.40    22.6  \n",
       "3     22.735275  6.54    15.5  \n",
       "4     30.953251  5.46     4.6  \n",
       "...         ...   ...     ...  \n",
       "2411  25.370370  5.74     6.2  \n",
       "2412  25.899774  4.90     7.3  \n",
       "2413  23.595456  5.93     6.6  \n",
       "2414  22.582709  4.85     6.4  \n",
       "2415  19.902676  5.68     7.8  \n",
       "\n",
       "[2416 rows x 15 columns]"
      ]
     },
     "execution_count": 10,
     "metadata": {},
     "output_type": "execute_result"
    }
   ],
   "source": [
    "rm_features = [\n",
    "    'IOP', 'SBP', 'DBP', 'HR', 'P1', 'P4', 'P5', 'R4', 'R5', 'hypertension', 'hyperlipidaemia1', 'age', 'bmi', 'chol', 'bldglu'\n",
    "]\n",
    "\n",
    "data_dir = '../data/seed/'\n",
    "plot_dir =  data_dir + 'SSL_results/'\n",
    "\n",
    "data = pd.read_csv(data_dir + 'SEED_progression_enhanced.csv')\n",
    "\n",
    "labeled_X = data.copy()\n",
    "labeled_X = labeled_X[labeled_X['func_progression'] != -1].reset_index(drop=True)\n",
    "\n",
    "unlabeled_Xs = data.copy()\n",
    "unlabeled_Xs = unlabeled_Xs[unlabeled_Xs['func_progression'] == -1].reset_index(drop=True)\n",
    "\n",
    "labeled_X, labels = labeled_X[rm_features], labeled_X['func_progression']\n",
    "unlabeled_Xs = unlabeled_Xs[rm_features]\n",
    "\n",
    "split = int(0.9 * len(labeled_X))\n",
    "labeled_X, test_X = labeled_X[:split], labeled_X[split:]\n",
    "labels, test_labels = labels[:split], labels[split:]\n",
    "\n",
    "labeled_X"
   ]
  },
  {
   "cell_type": "code",
   "execution_count": 11,
   "metadata": {},
   "outputs": [
    {
     "name": "stdout",
     "output_type": "stream",
     "text": [
      "0.0% unlabeled\n",
      "10.0% unlabeled\n"
     ]
    },
    {
     "name": "stderr",
     "output_type": "stream",
     "text": [
      "100%|██████████| 1072/1072 [02:00<00:00,  8.91it/s]\n"
     ]
    },
    {
     "name": "stdout",
     "output_type": "stream",
     "text": [
      "Finished\n",
      "20.0% unlabeled\n"
     ]
    },
    {
     "name": "stderr",
     "output_type": "stream",
     "text": [
      "100%|██████████| 2145/2145 [02:03<00:00, 17.42it/s] \n"
     ]
    },
    {
     "name": "stdout",
     "output_type": "stream",
     "text": [
      "Finished\n",
      "30.000000000000004% unlabeled\n"
     ]
    },
    {
     "name": "stderr",
     "output_type": "stream",
     "text": [
      "100%|██████████| 3218/3218 [02:40<00:00, 20.07it/s]  \n"
     ]
    },
    {
     "name": "stdout",
     "output_type": "stream",
     "text": [
      "Finished\n",
      "40.0% unlabeled\n"
     ]
    },
    {
     "name": "stderr",
     "output_type": "stream",
     "text": [
      "100%|██████████| 4291/4291 [03:35<00:00, 19.93it/s]  \n"
     ]
    },
    {
     "name": "stdout",
     "output_type": "stream",
     "text": [
      "Finished\n",
      "50.0% unlabeled\n"
     ]
    },
    {
     "name": "stderr",
     "output_type": "stream",
     "text": [
      "100%|██████████| 5364/5364 [03:59<00:00, 22.37it/s]  \n"
     ]
    },
    {
     "name": "stdout",
     "output_type": "stream",
     "text": [
      "Finished\n",
      "60.00000000000001% unlabeled\n"
     ]
    },
    {
     "name": "stderr",
     "output_type": "stream",
     "text": [
      "100%|██████████| 6436/6436 [03:06<00:00, 34.46it/s]  \n"
     ]
    },
    {
     "name": "stdout",
     "output_type": "stream",
     "text": [
      "Finished\n",
      "70.0% unlabeled\n"
     ]
    },
    {
     "name": "stderr",
     "output_type": "stream",
     "text": [
      "100%|██████████| 7509/7509 [03:35<00:00, 34.90it/s]  \n"
     ]
    },
    {
     "name": "stdout",
     "output_type": "stream",
     "text": [
      "Finished\n",
      "80.0% unlabeled\n"
     ]
    },
    {
     "name": "stderr",
     "output_type": "stream",
     "text": [
      "100%|██████████| 8582/8582 [05:46<00:00, 24.77it/s]  \n"
     ]
    },
    {
     "name": "stdout",
     "output_type": "stream",
     "text": [
      "Finished\n",
      "90.0% unlabeled\n"
     ]
    },
    {
     "name": "stderr",
     "output_type": "stream",
     "text": [
      "100%|██████████| 9655/9655 [05:00<00:00, 32.15it/s]  \n"
     ]
    },
    {
     "name": "stdout",
     "output_type": "stream",
     "text": [
      "Finished\n",
      "100.0% unlabeled\n"
     ]
    },
    {
     "name": "stderr",
     "output_type": "stream",
     "text": [
      "100%|██████████| 10728/10728 [06:21<00:00, 28.11it/s]  "
     ]
    },
    {
     "name": "stdout",
     "output_type": "stream",
     "text": [
      "Finished\n"
     ]
    },
    {
     "name": "stderr",
     "output_type": "stream",
     "text": [
      "\n"
     ]
    }
   ],
   "source": [
    "percentages = np.arange(0, 1.1, 0.1).tolist()\n",
    "\n",
    "accuracys, precisions, recalls, f1s = [], [], [], []\n",
    "for percent in percentages:\n",
    "    print(f\"{percent*100}% unlabeled\")\n",
    "    split = int(len(unlabeled_Xs)*percent)\n",
    "    unlabeled_X = unlabeled_Xs[:split]\n",
    "\n",
    "    # svm = SVC(C=10.0, kernel='rbf', gamma='auto', probability=True)\n",
    "    xgb = XGBClassifier(use_label_encoder=False, eval_metric=\"logloss\")\n",
    "\n",
    "    if len(unlabeled_X) > 0:\n",
    "        thresh = np.arange(0, 1, 0.025).tolist()[::-1]\n",
    "\n",
    "        epoch = 0\n",
    "        with tqdm(total=len(unlabeled_X)) as pbar:\n",
    "            while True:\n",
    "                # svm.fit(labeled_X, labels)\n",
    "                xgb.fit(labeled_X, labels)\n",
    "\n",
    "                if len(unlabeled_X) == 0:\n",
    "                    print(\"Finished\")\n",
    "                    break\n",
    "\n",
    "                # probabilities = svm.predict_proba(unlabeled_X)\n",
    "                # psuedo_labels = svm.predict(unlabeled_X)\n",
    "\n",
    "                probabilities = xgb.predict_proba(unlabeled_X)\n",
    "                psuedo_labels = xgb.predict(unlabeled_X)\n",
    "\n",
    "                strong_preds, thresh_count = [], 0\n",
    "                while True not in strong_preds:\n",
    "                    strong_preds = np.max(probabilities, axis=1) > thresh[thresh_count]\n",
    "                    thresh_count += 1\n",
    "                \n",
    "                new_y = psuedo_labels[strong_preds]\n",
    "                new_X = unlabeled_X[strong_preds]\n",
    "                \n",
    "                labels = np.hstack([labels, new_y])\n",
    "                labeled_X = np.vstack([labeled_X, new_X])\n",
    "\n",
    "                unlabeled_X = unlabeled_X[~strong_preds]\n",
    "\n",
    "                pbar.update(len(new_X))\n",
    "                epoch += 1\n",
    "    else:\n",
    "        # svm.fit(labeled_X, labels)\n",
    "        xgb.fit(labeled_X, labels)\n",
    "    \n",
    "    # acc, prec, rec, f1 = svm_evaluation(svm, test_X, test_labels)\n",
    "    acc, prec, rec, f1 = svm_evaluation(xgb, test_X, test_labels)\n",
    "    accuracys.append(acc)\n",
    "    precisions.append(prec)\n",
    "    recalls.append(rec)\n",
    "    f1s.append(f1)"
   ]
  },
  {
   "cell_type": "code",
   "execution_count": 12,
   "metadata": {},
   "outputs": [
    {
     "data": {
      "image/png": "[encoded data removed]",
      "text/plain": [
       "<Figure size 640x480 with 1 Axes>"
      ]
     },
     "metadata": {},
     "output_type": "display_data"
    }
   ],
   "source": [
    "plt.plot(percentages, accuracys, color='blue', marker='o', linestyle='-', label=\"Accuracy\")\n",
    "plt.plot(percentages, precisions, color='green', marker='s', linestyle='--', label=\"Precision\")\n",
    "plt.plot(percentages, recalls, color='red', marker='^', linestyle='-.', label=\"Recall\")\n",
    "plt.plot(percentages, f1s, color='purple', marker='d', linestyle=':', label=\"F1\")\n",
    "\n",
    "plt.xlabel(\"Percentage of Unlabeled Dataset Being Included\")\n",
    "plt.ylabel(\"Score\")\n",
    "plt.title(\"Metrics vs. Percentage of Unlabeled Dataset Being Included\")\n",
    "plt.legend()\n",
    "plt.grid(True)\n",
    "plt.savefig(plot_dir + \"xgb_metrics.png\")\n",
    "plt.show()"
   ]
  }
 ],
 "metadata": {
  "kernelspec": {
   "display_name": "research",
   "language": "python",
   "name": "python3"
  },
  "language_info": {
   "codemirror_mode": {
    "name": "ipython",
    "version": 3
   },
   "file_extension": ".py",
   "mimetype": "text/x-python",
   "name": "python",
   "nbconvert_exporter": "python",
   "pygments_lexer": "ipython3",
   "version": "3.12.4"
  }
 },
 "nbformat": 4,
 "nbformat_minor": 2
}
