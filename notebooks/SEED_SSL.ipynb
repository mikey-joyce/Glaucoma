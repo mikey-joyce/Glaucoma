{
 "cells": [
  {
   "cell_type": "code",
   "execution_count": 1,
   "metadata": {
    "id": "qlFfelrIUtj9"
   },
   "outputs": [],
   "source": [
    "import numpy as np\n",
    "import pandas as pd\n",
    "import matplotlib.pyplot as plt\n",
    "from tqdm import tqdm"
   ]
  },
  {
   "cell_type": "code",
   "execution_count": 2,
   "metadata": {
    "colab": {
     "base_uri": "https://localhost:8080/",
     "height": 458
    },
    "id": "UzfJ2xlxUyia",
    "outputId": "0f9084a1-6c02-4a4f-e6d2-8b2b37e658a6"
   },
   "outputs": [
    {
     "name": "stderr",
     "output_type": "stream",
     "text": [
      "/tmp/ipykernel_748569/2285128221.py:8: DtypeWarning: Columns (97,99,153,155,181,183,209,211,306,307,308,362,363,364,391,392,393,420,421,422) have mixed types. Specify dtype option on import or set low_memory=False.\n",
      "  data = pd.read_csv(data_dir + 'SEED_progression_enhanced.csv')\n"
     ]
    },
    {
     "data": {
      "text/html": [
       "<div>\n",
       "<style scoped>\n",
       "    .dataframe tbody tr th:only-of-type {\n",
       "        vertical-align: middle;\n",
       "    }\n",
       "\n",
       "    .dataframe tbody tr th {\n",
       "        vertical-align: top;\n",
       "    }\n",
       "\n",
       "    .dataframe thead th {\n",
       "        text-align: right;\n",
       "    }\n",
       "</style>\n",
       "<table border=\"1\" class=\"dataframe\">\n",
       "  <thead>\n",
       "    <tr style=\"text-align: right;\">\n",
       "      <th></th>\n",
       "      <th>IOP</th>\n",
       "      <th>SBP</th>\n",
       "      <th>DBP</th>\n",
       "      <th>HR</th>\n",
       "      <th>P1</th>\n",
       "      <th>P4</th>\n",
       "      <th>P5</th>\n",
       "      <th>R4</th>\n",
       "      <th>R5</th>\n",
       "    </tr>\n",
       "  </thead>\n",
       "  <tbody>\n",
       "    <tr>\n",
       "      <th>0</th>\n",
       "      <td>14.0</td>\n",
       "      <td>160.5</td>\n",
       "      <td>89.000000</td>\n",
       "      <td>82.000000</td>\n",
       "      <td>54.353404</td>\n",
       "      <td>24.467735</td>\n",
       "      <td>20.920736</td>\n",
       "      <td>3958.933240</td>\n",
       "      <td>2230.158494</td>\n",
       "    </tr>\n",
       "    <tr>\n",
       "      <th>1</th>\n",
       "      <td>17.0</td>\n",
       "      <td>150.5</td>\n",
       "      <td>71.666667</td>\n",
       "      <td>82.666667</td>\n",
       "      <td>50.612120</td>\n",
       "      <td>23.680001</td>\n",
       "      <td>20.146534</td>\n",
       "      <td>4867.423344</td>\n",
       "      <td>2236.001740</td>\n",
       "    </tr>\n",
       "    <tr>\n",
       "      <th>2</th>\n",
       "      <td>17.0</td>\n",
       "      <td>132.5</td>\n",
       "      <td>78.500000</td>\n",
       "      <td>65.000000</td>\n",
       "      <td>46.617885</td>\n",
       "      <td>22.671671</td>\n",
       "      <td>19.437524</td>\n",
       "      <td>5146.392218</td>\n",
       "      <td>2237.120771</td>\n",
       "    </tr>\n",
       "    <tr>\n",
       "      <th>3</th>\n",
       "      <td>21.0</td>\n",
       "      <td>138.0</td>\n",
       "      <td>71.000000</td>\n",
       "      <td>95.500000</td>\n",
       "      <td>48.432416</td>\n",
       "      <td>24.941110</td>\n",
       "      <td>19.296306</td>\n",
       "      <td>5678.779132</td>\n",
       "      <td>4768.998472</td>\n",
       "    </tr>\n",
       "    <tr>\n",
       "      <th>4</th>\n",
       "      <td>13.0</td>\n",
       "      <td>143.0</td>\n",
       "      <td>67.500000</td>\n",
       "      <td>73.333333</td>\n",
       "      <td>48.062857</td>\n",
       "      <td>22.853702</td>\n",
       "      <td>19.825284</td>\n",
       "      <td>4093.769151</td>\n",
       "      <td>2230.304842</td>\n",
       "    </tr>\n",
       "    <tr>\n",
       "      <th>...</th>\n",
       "      <td>...</td>\n",
       "      <td>...</td>\n",
       "      <td>...</td>\n",
       "      <td>...</td>\n",
       "      <td>...</td>\n",
       "      <td>...</td>\n",
       "      <td>...</td>\n",
       "      <td>...</td>\n",
       "      <td>...</td>\n",
       "    </tr>\n",
       "    <tr>\n",
       "      <th>2143</th>\n",
       "      <td>15.0</td>\n",
       "      <td>160.0</td>\n",
       "      <td>97.500000</td>\n",
       "      <td>52.000000</td>\n",
       "      <td>55.001836</td>\n",
       "      <td>24.668886</td>\n",
       "      <td>21.008155</td>\n",
       "      <td>4148.395844</td>\n",
       "      <td>2231.561631</td>\n",
       "    </tr>\n",
       "    <tr>\n",
       "      <th>2144</th>\n",
       "      <td>24.0</td>\n",
       "      <td>141.0</td>\n",
       "      <td>81.500000</td>\n",
       "      <td>67.500000</td>\n",
       "      <td>52.034682</td>\n",
       "      <td>29.763503</td>\n",
       "      <td>19.068848</td>\n",
       "      <td>5162.070910</td>\n",
       "      <td>10132.463522</td>\n",
       "    </tr>\n",
       "    <tr>\n",
       "      <th>2145</th>\n",
       "      <td>15.0</td>\n",
       "      <td>108.5</td>\n",
       "      <td>67.500000</td>\n",
       "      <td>76.000000</td>\n",
       "      <td>39.435975</td>\n",
       "      <td>20.759126</td>\n",
       "      <td>18.238056</td>\n",
       "      <td>5103.683479</td>\n",
       "      <td>2235.849699</td>\n",
       "    </tr>\n",
       "    <tr>\n",
       "      <th>2146</th>\n",
       "      <td>20.0</td>\n",
       "      <td>123.0</td>\n",
       "      <td>82.500000</td>\n",
       "      <td>75.000000</td>\n",
       "      <td>45.229977</td>\n",
       "      <td>23.468874</td>\n",
       "      <td>18.887381</td>\n",
       "      <td>5821.254934</td>\n",
       "      <td>3910.935462</td>\n",
       "    </tr>\n",
       "    <tr>\n",
       "      <th>2147</th>\n",
       "      <td>15.0</td>\n",
       "      <td>163.0</td>\n",
       "      <td>100.000000</td>\n",
       "      <td>70.500000</td>\n",
       "      <td>55.976701</td>\n",
       "      <td>24.917294</td>\n",
       "      <td>21.179441</td>\n",
       "      <td>4080.386678</td>\n",
       "      <td>2231.292206</td>\n",
       "    </tr>\n",
       "  </tbody>\n",
       "</table>\n",
       "<p>2148 rows × 9 columns</p>\n",
       "</div>"
      ],
      "text/plain": [
       "       IOP    SBP         DBP         HR         P1         P4         P5  \\\n",
       "0     14.0  160.5   89.000000  82.000000  54.353404  24.467735  20.920736   \n",
       "1     17.0  150.5   71.666667  82.666667  50.612120  23.680001  20.146534   \n",
       "2     17.0  132.5   78.500000  65.000000  46.617885  22.671671  19.437524   \n",
       "3     21.0  138.0   71.000000  95.500000  48.432416  24.941110  19.296306   \n",
       "4     13.0  143.0   67.500000  73.333333  48.062857  22.853702  19.825284   \n",
       "...    ...    ...         ...        ...        ...        ...        ...   \n",
       "2143  15.0  160.0   97.500000  52.000000  55.001836  24.668886  21.008155   \n",
       "2144  24.0  141.0   81.500000  67.500000  52.034682  29.763503  19.068848   \n",
       "2145  15.0  108.5   67.500000  76.000000  39.435975  20.759126  18.238056   \n",
       "2146  20.0  123.0   82.500000  75.000000  45.229977  23.468874  18.887381   \n",
       "2147  15.0  163.0  100.000000  70.500000  55.976701  24.917294  21.179441   \n",
       "\n",
       "               R4            R5  \n",
       "0     3958.933240   2230.158494  \n",
       "1     4867.423344   2236.001740  \n",
       "2     5146.392218   2237.120771  \n",
       "3     5678.779132   4768.998472  \n",
       "4     4093.769151   2230.304842  \n",
       "...           ...           ...  \n",
       "2143  4148.395844   2231.561631  \n",
       "2144  5162.070910  10132.463522  \n",
       "2145  5103.683479   2235.849699  \n",
       "2146  5821.254934   3910.935462  \n",
       "2147  4080.386678   2231.292206  \n",
       "\n",
       "[2148 rows x 9 columns]"
      ]
     },
     "execution_count": 2,
     "metadata": {},
     "output_type": "execute_result"
    }
   ],
   "source": [
    "rm_features = [\n",
    "    'IOP', 'SBP', 'DBP', 'HR', 'P1', 'P4', 'P5', 'R4', 'R5'\n",
    "]\n",
    "\n",
    "data_dir = '../data/seed/'\n",
    "plot_dir =  data_dir + 'SSL_results/'\n",
    "\n",
    "data = pd.read_csv(data_dir + 'SEED_progression_enhanced.csv')\n",
    "\n",
    "labeled_X = data.copy()\n",
    "labeled_X = labeled_X[labeled_X['func_progression'] != -1].reset_index(drop=True)\n",
    "\n",
    "unlabeled_X = data.copy()\n",
    "unlabeled_X = unlabeled_X[unlabeled_X['func_progression'] == -1].reset_index(drop=True)\n",
    "\n",
    "labeled_X, labels = labeled_X[rm_features], labeled_X['func_progression']\n",
    "unlabeled_X = unlabeled_X[rm_features]\n",
    "\n",
    "split = int(0.8 * len(labeled_X))\n",
    "labeled_X, test_X = labeled_X[:split], labeled_X[split:]\n",
    "labels, test_labels = labels[:split], labels[split:]\n",
    "\n",
    "labeled_X"
   ]
  },
  {
   "cell_type": "code",
   "execution_count": 3,
   "metadata": {
    "colab": {
     "base_uri": "https://localhost:8080/",
     "height": 458
    },
    "id": "ZF0IYs2JV8gU",
    "outputId": "b48e833e-eb60-4749-f74c-5d6b30f07a69"
   },
   "outputs": [
    {
     "data": {
      "text/plain": [
       "0       1\n",
       "1       1\n",
       "2       0\n",
       "3       1\n",
       "4       1\n",
       "       ..\n",
       "2143    0\n",
       "2144    1\n",
       "2145    0\n",
       "2146    0\n",
       "2147    1\n",
       "Name: func_progression, Length: 2148, dtype: int64"
      ]
     },
     "execution_count": 3,
     "metadata": {},
     "output_type": "execute_result"
    }
   ],
   "source": [
    "labels"
   ]
  },
  {
   "cell_type": "code",
   "execution_count": 4,
   "metadata": {
    "colab": {
     "base_uri": "https://localhost:8080/",
     "height": 424
    },
    "id": "AqLp_CWbVUcY",
    "outputId": "0098cfff-fe8d-4de6-9fd7-bea46b6ebbee"
   },
   "outputs": [
    {
     "data": {
      "text/html": [
       "<div>\n",
       "<style scoped>\n",
       "    .dataframe tbody tr th:only-of-type {\n",
       "        vertical-align: middle;\n",
       "    }\n",
       "\n",
       "    .dataframe tbody tr th {\n",
       "        vertical-align: top;\n",
       "    }\n",
       "\n",
       "    .dataframe thead th {\n",
       "        text-align: right;\n",
       "    }\n",
       "</style>\n",
       "<table border=\"1\" class=\"dataframe\">\n",
       "  <thead>\n",
       "    <tr style=\"text-align: right;\">\n",
       "      <th></th>\n",
       "      <th>IOP</th>\n",
       "      <th>SBP</th>\n",
       "      <th>DBP</th>\n",
       "      <th>HR</th>\n",
       "      <th>P1</th>\n",
       "      <th>P4</th>\n",
       "      <th>P5</th>\n",
       "      <th>R4</th>\n",
       "      <th>R5</th>\n",
       "    </tr>\n",
       "  </thead>\n",
       "  <tbody>\n",
       "    <tr>\n",
       "      <th>0</th>\n",
       "      <td>16.0</td>\n",
       "      <td>144.000000</td>\n",
       "      <td>85.5</td>\n",
       "      <td>98.000000</td>\n",
       "      <td>50.055924</td>\n",
       "      <td>23.496370</td>\n",
       "      <td>20.077229</td>\n",
       "      <td>4635.607939</td>\n",
       "      <td>2234.535487</td>\n",
       "    </tr>\n",
       "    <tr>\n",
       "      <th>1</th>\n",
       "      <td>13.0</td>\n",
       "      <td>162.000000</td>\n",
       "      <td>76.5</td>\n",
       "      <td>46.000000</td>\n",
       "      <td>53.586192</td>\n",
       "      <td>24.214022</td>\n",
       "      <td>20.828681</td>\n",
       "      <td>3842.424242</td>\n",
       "      <td>2228.803494</td>\n",
       "    </tr>\n",
       "    <tr>\n",
       "      <th>2</th>\n",
       "      <td>20.0</td>\n",
       "      <td>136.000000</td>\n",
       "      <td>93.0</td>\n",
       "      <td>51.333333</td>\n",
       "      <td>49.318582</td>\n",
       "      <td>24.270283</td>\n",
       "      <td>19.652881</td>\n",
       "      <td>5568.706499</td>\n",
       "      <td>3453.537418</td>\n",
       "    </tr>\n",
       "    <tr>\n",
       "      <th>3</th>\n",
       "      <td>12.0</td>\n",
       "      <td>139.500000</td>\n",
       "      <td>87.0</td>\n",
       "      <td>90.500000</td>\n",
       "      <td>48.757540</td>\n",
       "      <td>22.993921</td>\n",
       "      <td>19.971621</td>\n",
       "      <td>3839.077995</td>\n",
       "      <td>2228.561475</td>\n",
       "    </tr>\n",
       "    <tr>\n",
       "      <th>4</th>\n",
       "      <td>18.0</td>\n",
       "      <td>112.000000</td>\n",
       "      <td>63.0</td>\n",
       "      <td>70.000000</td>\n",
       "      <td>40.240945</td>\n",
       "      <td>21.292278</td>\n",
       "      <td>18.250711</td>\n",
       "      <td>5887.861383</td>\n",
       "      <td>2681.545684</td>\n",
       "    </tr>\n",
       "    <tr>\n",
       "      <th>...</th>\n",
       "      <td>...</td>\n",
       "      <td>...</td>\n",
       "      <td>...</td>\n",
       "      <td>...</td>\n",
       "      <td>...</td>\n",
       "      <td>...</td>\n",
       "      <td>...</td>\n",
       "      <td>...</td>\n",
       "      <td>...</td>\n",
       "    </tr>\n",
       "    <tr>\n",
       "      <th>10723</th>\n",
       "      <td>15.0</td>\n",
       "      <td>132.500000</td>\n",
       "      <td>69.0</td>\n",
       "      <td>81.500000</td>\n",
       "      <td>45.671763</td>\n",
       "      <td>22.341760</td>\n",
       "      <td>19.335764</td>\n",
       "      <td>4681.690635</td>\n",
       "      <td>2234.134459</td>\n",
       "    </tr>\n",
       "    <tr>\n",
       "      <th>10724</th>\n",
       "      <td>15.0</td>\n",
       "      <td>155.500000</td>\n",
       "      <td>89.5</td>\n",
       "      <td>88.500000</td>\n",
       "      <td>53.214678</td>\n",
       "      <td>24.234647</td>\n",
       "      <td>20.679634</td>\n",
       "      <td>4223.281692</td>\n",
       "      <td>2232.054591</td>\n",
       "    </tr>\n",
       "    <tr>\n",
       "      <th>10725</th>\n",
       "      <td>16.0</td>\n",
       "      <td>122.500000</td>\n",
       "      <td>80.0</td>\n",
       "      <td>101.500000</td>\n",
       "      <td>44.137203</td>\n",
       "      <td>22.003486</td>\n",
       "      <td>19.027839</td>\n",
       "      <td>5029.395916</td>\n",
       "      <td>2236.179508</td>\n",
       "    </tr>\n",
       "    <tr>\n",
       "      <th>10726</th>\n",
       "      <td>17.0</td>\n",
       "      <td>138.666667</td>\n",
       "      <td>84.0</td>\n",
       "      <td>87.000000</td>\n",
       "      <td>48.656426</td>\n",
       "      <td>23.192795</td>\n",
       "      <td>19.793699</td>\n",
       "      <td>4986.792931</td>\n",
       "      <td>2236.553095</td>\n",
       "    </tr>\n",
       "    <tr>\n",
       "      <th>10727</th>\n",
       "      <td>18.0</td>\n",
       "      <td>129.500000</td>\n",
       "      <td>65.5</td>\n",
       "      <td>79.500000</td>\n",
       "      <td>44.871926</td>\n",
       "      <td>22.354813</td>\n",
       "      <td>19.081017</td>\n",
       "      <td>5542.970272</td>\n",
       "      <td>2380.319081</td>\n",
       "    </tr>\n",
       "  </tbody>\n",
       "</table>\n",
       "<p>10728 rows × 9 columns</p>\n",
       "</div>"
      ],
      "text/plain": [
       "        IOP         SBP   DBP          HR         P1         P4         P5  \\\n",
       "0      16.0  144.000000  85.5   98.000000  50.055924  23.496370  20.077229   \n",
       "1      13.0  162.000000  76.5   46.000000  53.586192  24.214022  20.828681   \n",
       "2      20.0  136.000000  93.0   51.333333  49.318582  24.270283  19.652881   \n",
       "3      12.0  139.500000  87.0   90.500000  48.757540  22.993921  19.971621   \n",
       "4      18.0  112.000000  63.0   70.000000  40.240945  21.292278  18.250711   \n",
       "...     ...         ...   ...         ...        ...        ...        ...   \n",
       "10723  15.0  132.500000  69.0   81.500000  45.671763  22.341760  19.335764   \n",
       "10724  15.0  155.500000  89.5   88.500000  53.214678  24.234647  20.679634   \n",
       "10725  16.0  122.500000  80.0  101.500000  44.137203  22.003486  19.027839   \n",
       "10726  17.0  138.666667  84.0   87.000000  48.656426  23.192795  19.793699   \n",
       "10727  18.0  129.500000  65.5   79.500000  44.871926  22.354813  19.081017   \n",
       "\n",
       "                R4           R5  \n",
       "0      4635.607939  2234.535487  \n",
       "1      3842.424242  2228.803494  \n",
       "2      5568.706499  3453.537418  \n",
       "3      3839.077995  2228.561475  \n",
       "4      5887.861383  2681.545684  \n",
       "...            ...          ...  \n",
       "10723  4681.690635  2234.134459  \n",
       "10724  4223.281692  2232.054591  \n",
       "10725  5029.395916  2236.179508  \n",
       "10726  4986.792931  2236.553095  \n",
       "10727  5542.970272  2380.319081  \n",
       "\n",
       "[10728 rows x 9 columns]"
      ]
     },
     "execution_count": 4,
     "metadata": {},
     "output_type": "execute_result"
    }
   ],
   "source": [
    "unlabeled_X"
   ]
  },
  {
   "cell_type": "code",
   "execution_count": 5,
   "metadata": {
    "id": "ztgc-mWSSolT"
   },
   "outputs": [],
   "source": [
    "import torch\n",
    "import torch.nn as nn\n",
    "import torch.optim as optim\n",
    "from sklearn.svm import SVC\n",
    "from sklearn.model_selection import GridSearchCV, cross_val_score\n",
    "from sklearn.metrics import accuracy_score, precision_score, recall_score, f1_score"
   ]
  },
  {
   "cell_type": "code",
   "execution_count": 6,
   "metadata": {
    "id": "Np5QicesUGsZ"
   },
   "outputs": [],
   "source": [
    "class MLP(nn.Module):\n",
    "    def __init__(self, n_in, n_h1, n_h2, n_out):\n",
    "        super(MLP, self).__init__()\n",
    "        self.h1 = nn.Linear(n_in, n_h1)\n",
    "        self.relu1 = nn.ReLU()\n",
    "        self.h2 = nn.Linear(n_h1, n_h2)\n",
    "        self.relu2 = nn.ReLU()\n",
    "        self.output = nn.Linear(n_h2, n_out)\n",
    "\n",
    "    def forward(self, x):\n",
    "        x = self.h1(x)\n",
    "        x = self.relu1(x)\n",
    "        x = self.h2(x)\n",
    "        x = self.relu2(x)\n",
    "        x = self.output(x)\n",
    "        return torch.sigmoid(x)"
   ]
  },
  {
   "cell_type": "code",
   "execution_count": 7,
   "metadata": {
    "colab": {
     "base_uri": "https://localhost:8080/"
    },
    "id": "v5dVtErkUjMf",
    "outputId": "54f9537d-3abd-46ec-b351-aafc369b27f0"
   },
   "outputs": [
    {
     "name": "stderr",
     "output_type": "stream",
     "text": [
      "100%|██████████| 100/100 [00:00<00:00, 509.43it/s]\n"
     ]
    }
   ],
   "source": [
    "# First training is fully supervised\n",
    "n_in = labeled_X.shape[1]\n",
    "n_h1 = 20\n",
    "n_h2 = int(n_h1/2)\n",
    "\n",
    "mlp = MLP(n_in, n_h1, n_h2, 1)\n",
    "criterion = nn.BCELoss()\n",
    "optimizer = optim.Adam(mlp.parameters(), lr=0.001)\n",
    "\n",
    "for epoch in tqdm(range(100)):\n",
    "    out = mlp(torch.tensor(labeled_X.values, dtype=torch.float32))\n",
    "    loss = criterion(out, torch.tensor(labels.values, dtype=torch.float32).unsqueeze(1))\n",
    "\n",
    "    optimizer.zero_grad()\n",
    "    loss.backward()\n",
    "    optimizer.step()"
   ]
  },
  {
   "cell_type": "code",
   "execution_count": 8,
   "metadata": {
    "colab": {
     "base_uri": "https://localhost:8080/"
    },
    "id": "uWox34xkZKxA",
    "outputId": "963dd61a-6712-4548-d52b-62403c644ead"
   },
   "outputs": [
    {
     "name": "stdout",
     "output_type": "stream",
     "text": [
      "Accuracy: 0.5418994413407822\n",
      "Precision: 0.0\n",
      "Recall: 0.0\n",
      "F1: 0.0\n"
     ]
    },
    {
     "name": "stderr",
     "output_type": "stream",
     "text": [
      "/home/mikey-joyce/miniconda3/envs/research/lib/python3.12/site-packages/sklearn/metrics/_classification.py:1531: UndefinedMetricWarning: Precision is ill-defined and being set to 0.0 due to no predicted samples. Use `zero_division` parameter to control this behavior.\n",
      "  _warn_prf(average, modifier, f\"{metric.capitalize()} is\", len(result))\n"
     ]
    }
   ],
   "source": [
    "def mlp_evaluation(model, X, y):\n",
    "    model.eval()\n",
    "    with torch.no_grad():\n",
    "        preds = model(X)\n",
    "        labels = (preds > 0.5).int().numpy().flatten()\n",
    "        true = y.numpy().flatten()\n",
    "\n",
    "        acc = accuracy_score(true, labels)\n",
    "        prec = precision_score(true, labels)\n",
    "        rec = recall_score(true, labels)\n",
    "        f1 = f1_score(true, labels)\n",
    "\n",
    "        return acc, prec, rec, f1\n",
    "\n",
    "acc, prec, rec, f1 = mlp_evaluation(mlp, torch.tensor(test_X.values, dtype=torch.float32), torch.tensor(test_labels.values, dtype=torch.float32).unsqueeze(1))\n",
    "print(f\"Accuracy: {acc}\")\n",
    "print(f\"Precision: {prec}\")\n",
    "print(f\"Recall: {rec}\")\n",
    "print(f\"F1: {f1}\")"
   ]
  },
  {
   "cell_type": "code",
   "execution_count": 9,
   "metadata": {
    "colab": {
     "base_uri": "https://localhost:8080/"
    },
    "id": "EkUnlmBRQlAH",
    "outputId": "2244484f-1f36-4c90-855d-452aabe775c1"
   },
   "outputs": [
    {
     "name": "stderr",
     "output_type": "stream",
     "text": [
      "Grid Search:   0%|          | 0/18 [00:00<?, ?it/s]"
     ]
    },
    {
     "name": "stderr",
     "output_type": "stream",
     "text": [
      "Grid Search: 100%|██████████| 18/18 [08:10<00:00, 27.26s/it]"
     ]
    },
    {
     "name": "stdout",
     "output_type": "stream",
     "text": [
      "Best Parameters: {'C': 10.0, 'kernel': 'rbf', 'gamma': 'auto'}\n",
      "Best Cross-Validation Score: 0.5651845828590015\n"
     ]
    },
    {
     "name": "stderr",
     "output_type": "stream",
     "text": [
      "\n"
     ]
    }
   ],
   "source": [
    "param_grid = {\n",
    "    'C': [0.1, 1.0, 10.0],\n",
    "    'kernel': ['linear', 'rbf', 'sigmoid'],\n",
    "    'gamma': ['scale', 'auto']\n",
    "}\n",
    "\n",
    "best_params = None\n",
    "best_score = -np.inf\n",
    "svm = None\n",
    "\n",
    "total_combinations = len(param_grid['C']) * len(param_grid['kernel']) * len(param_grid['gamma'])\n",
    "\n",
    "with tqdm(total=total_combinations, desc=\"Grid Search\") as pbar:\n",
    "    for C in param_grid['C']:\n",
    "        for kernel in param_grid['kernel']:\n",
    "            for gamma in param_grid['gamma']:\n",
    "                model = SVC(C=C, kernel=kernel, gamma=gamma)\n",
    "                scores = cross_val_score(model, labeled_X, labels, cv=5, n_jobs=-1)\n",
    "                mean_score = scores.mean()\n",
    "\n",
    "                pbar.update(1)\n",
    "\n",
    "                if mean_score > best_score:\n",
    "                    best_score = mean_score\n",
    "                    best_params = {'C': C, 'kernel': kernel, 'gamma': gamma}\n",
    "                    svm = model\n",
    "\n",
    "print(\"Best Parameters:\", best_params)\n",
    "print(\"Best Cross-Validation Score:\", best_score)"
   ]
  },
  {
   "cell_type": "code",
   "execution_count": 12,
   "metadata": {
    "id": "m3-dcLWgPAUZ"
   },
   "outputs": [
    {
     "name": "stdout",
     "output_type": "stream",
     "text": [
      "Accuracy: 0.6182495344506518\n",
      "Precision: 0.6564885496183206\n",
      "Recall: 0.34959349593495936\n",
      "F1: 0.4562334217506631\n"
     ]
    }
   ],
   "source": [
    "def svm_evaluation(model, X, y):\n",
    "    preds = model.predict(X)\n",
    "\n",
    "    acc = accuracy_score(y, preds)\n",
    "    prec = precision_score(y, preds)\n",
    "    rec = recall_score(y, preds)\n",
    "    f1 = f1_score(y, preds)\n",
    "\n",
    "    return acc, prec, rec, f1\n",
    "\n",
    "svm.fit(labeled_X, labels)\n",
    "\n",
    "acc, prec, rec, f1 = svm_evaluation(svm, test_X, test_labels)\n",
    "print(f\"Accuracy: {acc}\")\n",
    "print(f\"Precision: {prec}\")\n",
    "print(f\"Recall: {rec}\")\n",
    "print(f\"F1: {f1}\")"
   ]
  },
  {
   "cell_type": "code",
   "execution_count": 13,
   "metadata": {
    "id": "BxnJ7a2LV7wf"
   },
   "outputs": [],
   "source": [
    "import joblib\n",
    "import json\n",
    "\n",
    "joblib.dump(svm, 'svm.joblib')\n",
    "\n",
    "with open('svm_params.json', 'w') as f:\n",
    "    json.dump(best_params, f)"
   ]
  },
  {
   "cell_type": "code",
   "execution_count": null,
   "metadata": {},
   "outputs": [],
   "source": [
    "model = SVC(C=10.0, kernel='poly', degree=4, gamma='auto')\n",
    "model.fit(labeled_X, labels)\n",
    "\n",
    "acc, prec, rec, f1 = svm_evaluation(svm, test_X, test_labels)\n",
    "print(f\"Accuracy: {acc}\")\n",
    "print(f\"Precision: {prec}\")\n",
    "print(f\"Recall: {rec}\")\n",
    "print(f\"F1: {f1}\")"
   ]
  }
 ],
 "metadata": {
  "colab": {
   "provenance": []
  },
  "kernelspec": {
   "display_name": "research",
   "language": "python",
   "name": "python3"
  },
  "language_info": {
   "codemirror_mode": {
    "name": "ipython",
    "version": 3
   },
   "file_extension": ".py",
   "mimetype": "text/x-python",
   "name": "python",
   "nbconvert_exporter": "python",
   "pygments_lexer": "ipython3",
   "version": "3.12.4"
  }
 },
 "nbformat": 4,
 "nbformat_minor": 0
}
